{
  "nbformat": 4,
  "nbformat_minor": 0,
  "metadata": {
    "colab": {
      "provenance": []
    },
    "kernelspec": {
      "name": "python3",
      "display_name": "Python 3"
    },
    "language_info": {
      "name": "python"
    }
  },
  "cells": [
    {
      "cell_type": "code",
      "execution_count": 1,
      "metadata": {
        "colab": {
          "base_uri": "https://localhost:8080/"
        },
        "id": "P-zkmi6FsihK",
        "outputId": "30827ba0-002d-4e36-e089-0ead84987abc"
      },
      "outputs": [
        {
          "output_type": "stream",
          "name": "stdout",
          "text": [
            "[0 1 2 3 4 5]\n",
            "Data type: int64\n"
          ]
        }
      ],
      "source": [
        "#1. Create a NumPy array 'arr' of integers from 0 to 5 and print its data type.\n",
        "import numpy as np\n",
        "\n",
        "arr = np.arange(6)\n",
        "print(arr)\n",
        "print(\"Data type:\", arr.dtype)\n"
      ]
    },
    {
      "cell_type": "code",
      "source": [
        "#2. Given a NumPy array 'arr', check if its data type is float64.\n",
        "arr = np.array([1.5, 2.6, 3.7])\n",
        "if arr.dtype == np.float64:\n",
        "    print(\"The array data type is float64.\")\n",
        "else:\n",
        "    print(\"The array data type is not float64.\")\n"
      ],
      "metadata": {
        "colab": {
          "base_uri": "https://localhost:8080/"
        },
        "id": "B21sB8b-taC3",
        "outputId": "ab5e5a22-a6b6-4115-b20d-c2bd7346b6d3"
      },
      "execution_count": 2,
      "outputs": [
        {
          "output_type": "stream",
          "name": "stdout",
          "text": [
            "The array data type is float64.\n"
          ]
        }
      ]
    },
    {
      "cell_type": "code",
      "source": [
        "#3. Create a NumPy array 'arr' with a data type of complex128 containing three complex numbers.\n",
        "arr = np.array([1+2j, 3+4j, 5+6j], dtype=np.complex128)\n",
        "print(arr)\n",
        "print(\"Data type:\", arr.dtype)\n"
      ],
      "metadata": {
        "colab": {
          "base_uri": "https://localhost:8080/"
        },
        "id": "_CtpsPKqtZq3",
        "outputId": "b8ee0675-8a5a-40fd-9662-d89617d456b5"
      },
      "execution_count": 3,
      "outputs": [
        {
          "output_type": "stream",
          "name": "stdout",
          "text": [
            "[1.+2.j 3.+4.j 5.+6.j]\n",
            "Data type: complex128\n"
          ]
        }
      ]
    },
    {
      "cell_type": "code",
      "source": [
        "#4. Convert an existing NumPy array 'arr' of integers to float32 data type.\n",
        "arr = np.array([1, 2, 3, 4, 5])\n",
        "arr_float32 = arr.astype(np.float32)\n",
        "print(arr_float32)\n",
        "print(\"Data type:\", arr_float32.dtype)\n"
      ],
      "metadata": {
        "colab": {
          "base_uri": "https://localhost:8080/"
        },
        "id": "-Qhn21wptZng",
        "outputId": "a3e330b0-2651-496a-e88a-ecb20954742f"
      },
      "execution_count": 4,
      "outputs": [
        {
          "output_type": "stream",
          "name": "stdout",
          "text": [
            "[1. 2. 3. 4. 5.]\n",
            "Data type: float32\n"
          ]
        }
      ]
    },
    {
      "cell_type": "code",
      "source": [
        "#5. Given a NumPy array 'arr' with float64 data type, convert it to float32 to reduce decimal precision.\n",
        "arr = np.array([1.1, 2.2, 3.3], dtype=np.float64)\n",
        "arr_float32 = arr.astype(np.float32)\n",
        "print(arr_float32)\n",
        "print(\"Data type:\", arr_float32.dtype)\n"
      ],
      "metadata": {
        "colab": {
          "base_uri": "https://localhost:8080/"
        },
        "id": "tyUMV_kgtZkI",
        "outputId": "426db5ab-7420-4041-b85f-9d27f7a4f5fb"
      },
      "execution_count": 5,
      "outputs": [
        {
          "output_type": "stream",
          "name": "stdout",
          "text": [
            "[1.1 2.2 3.3]\n",
            "Data type: float32\n"
          ]
        }
      ]
    },
    {
      "cell_type": "code",
      "source": [
        "#6. Write a function array_attributes that takes a NumPy array as input and returns its shape, size, and data\n",
        "#ype.\n",
        "def array_attributes(arr):\n",
        "    return arr.shape, arr.size, arr.dtype\n",
        "\n",
        "arr = np.array([[1, 2], [3, 4]])\n",
        "print(array_attributes(arr))\n"
      ],
      "metadata": {
        "colab": {
          "base_uri": "https://localhost:8080/"
        },
        "id": "6IEHx2C2tZhV",
        "outputId": "d8e955dc-7bb8-45a1-d9cb-957d6847ae9e"
      },
      "execution_count": 6,
      "outputs": [
        {
          "output_type": "stream",
          "name": "stdout",
          "text": [
            "((2, 2), 4, dtype('int64'))\n"
          ]
        }
      ]
    },
    {
      "cell_type": "code",
      "source": [
        "#7. Create a function array_dimension that takes a NumPy array as input and returns its dimensionality\n",
        "def array_dimension(arr):\n",
        "    return arr.ndim\n",
        "\n",
        "arr = np.array([1, 2, 3])\n",
        "print(array_dimension(arr))\n"
      ],
      "metadata": {
        "colab": {
          "base_uri": "https://localhost:8080/"
        },
        "id": "8TTbmk8atZeY",
        "outputId": "717070cc-3257-4e8f-d98f-7e7715f4a71e"
      },
      "execution_count": 7,
      "outputs": [
        {
          "output_type": "stream",
          "name": "stdout",
          "text": [
            "1\n"
          ]
        }
      ]
    },
    {
      "cell_type": "code",
      "source": [
        "#8. Design a function item_size_info that takes a NumPy array as input and returns the item size and the total\n",
        "#size in bytes.\n",
        "def item_size_info(arr):\n",
        "    return arr.itemsize, arr.nbytes\n",
        "\n",
        "arr = np.array([1, 2, 3, 4])\n",
        "print(item_size_info(arr))\n"
      ],
      "metadata": {
        "colab": {
          "base_uri": "https://localhost:8080/"
        },
        "id": "cF1mw0U8tZbY",
        "outputId": "f0288654-99cf-4658-d620-f193f19ca07f"
      },
      "execution_count": 8,
      "outputs": [
        {
          "output_type": "stream",
          "name": "stdout",
          "text": [
            "(8, 32)\n"
          ]
        }
      ]
    },
    {
      "cell_type": "code",
      "source": [
        "#9. Create a function array_strides that takes a NumPy array as input and returns the strides of the array\n",
        "def array_strides(arr):\n",
        "    return arr.strides\n",
        "\n",
        "arr = np.array([[1, 2, 3], [4, 5, 6]])\n",
        "print(array_strides(arr))\n"
      ],
      "metadata": {
        "colab": {
          "base_uri": "https://localhost:8080/"
        },
        "id": "7JZkbf6ouMsn",
        "outputId": "3ca62c5e-4985-467e-ee9e-a91e2b1059b6"
      },
      "execution_count": 9,
      "outputs": [
        {
          "output_type": "stream",
          "name": "stdout",
          "text": [
            "(24, 8)\n"
          ]
        }
      ]
    },
    {
      "cell_type": "code",
      "source": [
        "#10. Design a function shape_stride_relationship that takes a NumPy array as input and returns the shape\n",
        "#and strides of the array.\n",
        "def shape_stride_relationship(arr):\n",
        "    return arr.shape, arr.strides\n",
        "\n",
        "arr = np.array([[1, 2], [3, 4]])\n",
        "print(shape_stride_relationship(arr))\n"
      ],
      "metadata": {
        "colab": {
          "base_uri": "https://localhost:8080/"
        },
        "id": "SU9k59lDtZYr",
        "outputId": "490fca91-5a18-49ea-dab3-10dbcf438251"
      },
      "execution_count": 10,
      "outputs": [
        {
          "output_type": "stream",
          "name": "stdout",
          "text": [
            "((2, 2), (16, 8))\n"
          ]
        }
      ]
    },
    {
      "cell_type": "code",
      "source": [
        "#11. Create a function create_zeros_array that takes an integer n as input and returns a NumPy array of\n",
        "#zeros with n elements.\n",
        "def create_zeros_array(n):\n",
        "    return np.zeros(n)\n",
        "\n",
        "print(create_zeros_array(5))"
      ],
      "metadata": {
        "colab": {
          "base_uri": "https://localhost:8080/"
        },
        "id": "DpIudBjCtZVq",
        "outputId": "f2168926-e271-4fb3-c645-974edcbf2e94"
      },
      "execution_count": 11,
      "outputs": [
        {
          "output_type": "stream",
          "name": "stdout",
          "text": [
            "[0. 0. 0. 0. 0.]\n"
          ]
        }
      ]
    },
    {
      "cell_type": "code",
      "source": [
        "#12. Write a function create_ones_matrix that takes integers rows and cols as inputs and generates a 2D\n",
        "#NumPy array filled with ones of size rows x cols.\n"
      ],
      "metadata": {
        "id": "3GAm_NqQtZSt"
      },
      "execution_count": 12,
      "outputs": []
    },
    {
      "cell_type": "code",
      "source": [
        "'''#13. Write a function generate_range_array that takes three integers start, stop, and step as arguments and\n",
        "creates a NumPy array with a range starting from start, ending at stop (exclusive), and with the specified\n",
        "step.'''\n",
        "def generate_range_array(start, stop, step):\n",
        "    return np.arange(start, stop, step)\n",
        "\n",
        "print(generate_range_array(0, 10, 2))\n",
        "\n"
      ],
      "metadata": {
        "colab": {
          "base_uri": "https://localhost:8080/"
        },
        "id": "IoRDlMmjtZPj",
        "outputId": "b095dae1-886a-45cb-981a-de7024dde1ca"
      },
      "execution_count": 13,
      "outputs": [
        {
          "output_type": "stream",
          "name": "stdout",
          "text": [
            "[0 2 4 6 8]\n"
          ]
        }
      ]
    },
    {
      "cell_type": "code",
      "source": [
        "'''14. Design a function generate_linear_space that takes two floats start, stop, and an integer num as\n",
        "arguments and generates a NumPy array with num equally spaced values between start and stop\n",
        "(inclusive).'''\n",
        "def generate_linear_space(start, stop, num):\n",
        "    return np.linspace(start, stop, num)\n",
        "\n",
        "print(generate_linear_space(0, 1, 5))"
      ],
      "metadata": {
        "colab": {
          "base_uri": "https://localhost:8080/"
        },
        "id": "HcAz1zbtuEg8",
        "outputId": "30d24728-ce07-4791-8d45-d60d4dfd47aa"
      },
      "execution_count": 14,
      "outputs": [
        {
          "output_type": "stream",
          "name": "stdout",
          "text": [
            "[0.   0.25 0.5  0.75 1.  ]\n"
          ]
        }
      ]
    },
    {
      "cell_type": "code",
      "source": [
        "'''15. Create a function create_identity_matrix that takes an integer n as input and generates a square\n",
        "identity matrix of size n x n using numpy.eye.'''\n",
        "def create_identity_matrix(n):\n",
        "    return np.eye(n)\n",
        "\n",
        "print(create_identity_matrix(3))"
      ],
      "metadata": {
        "colab": {
          "base_uri": "https://localhost:8080/"
        },
        "id": "w8mbQZzuuEVc",
        "outputId": "47af7075-3554-4f6b-e428-fe8e1e0b5da6"
      },
      "execution_count": 15,
      "outputs": [
        {
          "output_type": "stream",
          "name": "stdout",
          "text": [
            "[[1. 0. 0.]\n",
            " [0. 1. 0.]\n",
            " [0. 0. 1.]]\n"
          ]
        }
      ]
    },
    {
      "cell_type": "code",
      "source": [
        "'''16. Write a function that takes a Python list and converts it into a NumPy array.'''\n",
        "def list_to_numpy(lst):\n",
        "    return np.array(lst)\n",
        "\n",
        "print(list_to_numpy([1, 2, 3, 4]))\n",
        "\n"
      ],
      "metadata": {
        "colab": {
          "base_uri": "https://localhost:8080/"
        },
        "id": "_qGX1LYauEKg",
        "outputId": "357ef682-c611-4088-8883-a6c4d4708d91"
      },
      "execution_count": 16,
      "outputs": [
        {
          "output_type": "stream",
          "name": "stdout",
          "text": [
            "[1 2 3 4]\n"
          ]
        }
      ]
    },
    {
      "cell_type": "code",
      "source": [
        "'''17. Create a NumPy array and demonstrate the use of numpy.view to create a new array object with the\n",
        "same data.'''\n",
        "arr = np.array([1, 2, 3, 4, 5])\n",
        "arr_view = arr.view()\n",
        "arr_view[0] = 100\n",
        "\n",
        "print(\"Original array:\", arr)\n",
        "print(\"View of array:\", arr_view)\n"
      ],
      "metadata": {
        "colab": {
          "base_uri": "https://localhost:8080/"
        },
        "id": "jxsfu7WpuJgq",
        "outputId": "2f1c812b-0c4e-45ab-bd2d-ff1c9f960d9c"
      },
      "execution_count": 17,
      "outputs": [
        {
          "output_type": "stream",
          "name": "stdout",
          "text": [
            "Original array: [100   2   3   4   5]\n",
            "View of array: [100   2   3   4   5]\n"
          ]
        }
      ]
    },
    {
      "cell_type": "code",
      "source": [
        "'''18. Write a function that takes two NumPy arrays and concatenates them along a specified axis.'''\n",
        "def concatenate_arrays(arr1, arr2, axis=0):\n",
        "    return np.concatenate((arr1, arr2), axis=axis)\n",
        "\n",
        "arr1 = np.array([[1, 2], [3, 4]])\n",
        "arr2 = np.array([[5, 6], [7, 8]])\n",
        "print(concatenate_arrays(arr1, arr2, axis=0))  # Vertical concatenation\n",
        "print(concatenate_arrays(arr1, arr2, axis=1))  # Horizontal concatenation\n"
      ],
      "metadata": {
        "colab": {
          "base_uri": "https://localhost:8080/"
        },
        "id": "B3ii_4havWql",
        "outputId": "44049747-c519-4c1c-f3dc-df544fbb4d5f"
      },
      "execution_count": 18,
      "outputs": [
        {
          "output_type": "stream",
          "name": "stdout",
          "text": [
            "[[1 2]\n",
            " [3 4]\n",
            " [5 6]\n",
            " [7 8]]\n",
            "[[1 2 5 6]\n",
            " [3 4 7 8]]\n"
          ]
        }
      ]
    },
    {
      "cell_type": "code",
      "source": [
        "'''19. Create two NumPy arrays with different shapes and concatenate them horizontally using numpy.concatenate.'''\n",
        "arr1 = np.array([[1, 2], [3, 4]])\n",
        "arr2 = np.array([[5], [6]])\n",
        "result = np.concatenate((arr1, arr2), axis=1)\n",
        "print(result)\n"
      ],
      "metadata": {
        "colab": {
          "base_uri": "https://localhost:8080/"
        },
        "id": "UlO5_XKCvr-2",
        "outputId": "652da436-007a-4ad5-eb7d-a8fbeb729653"
      },
      "execution_count": 21,
      "outputs": [
        {
          "output_type": "stream",
          "name": "stdout",
          "text": [
            "[[1 2 5]\n",
            " [3 4 6]]\n"
          ]
        }
      ]
    },
    {
      "cell_type": "code",
      "source": [
        "'''20. Write a function that vertically stacks multiple NumPy arrays given as a list.'''\n",
        "def vertical_stack(arr_list):\n",
        "    return np.vstack(arr_list)\n",
        "\n",
        "arr_list = [np.array([1, 2]), np.array([3, 4]), np.array([5, 6])]\n",
        "print(vertical_stack(arr_list))\n"
      ],
      "metadata": {
        "colab": {
          "base_uri": "https://localhost:8080/"
        },
        "id": "tha2PI48vr7p",
        "outputId": "795df065-a804-4157-fffa-c26368e30db3"
      },
      "execution_count": 22,
      "outputs": [
        {
          "output_type": "stream",
          "name": "stdout",
          "text": [
            "[[1 2]\n",
            " [3 4]\n",
            " [5 6]]\n"
          ]
        }
      ]
    },
    {
      "cell_type": "code",
      "source": [
        "'''21. Write a Python function using NumPy to create an array of integers within a specified range (inclusive)\n",
        "with a given step size.'''\n",
        "def create_range_array(start, stop, step):\n",
        "    return np.arange(start, stop + 1, step)\n",
        "\n",
        "print(create_range_array(1, 10, 2))\n"
      ],
      "metadata": {
        "colab": {
          "base_uri": "https://localhost:8080/"
        },
        "id": "wHVjhQv0vr46",
        "outputId": "517231bd-b5a7-4a32-b04f-d3fb2800d4d2"
      },
      "execution_count": 23,
      "outputs": [
        {
          "output_type": "stream",
          "name": "stdout",
          "text": [
            "[1 3 5 7 9]\n"
          ]
        }
      ]
    },
    {
      "cell_type": "code",
      "source": [
        "'''22. Write a Python function using NumPy to generate an array of 10 equally spaced values between 0 and 1\n",
        "(inclusive).'''\n",
        "def generate_equally_spaced():\n",
        "    return np.linspace(0, 1, 10)\n",
        "\n",
        "print(generate_equally_spaced())\n"
      ],
      "metadata": {
        "colab": {
          "base_uri": "https://localhost:8080/"
        },
        "id": "l2VRqRfOvr1p",
        "outputId": "6cf4a663-ab29-44fe-fc3a-3c763917a17d"
      },
      "execution_count": 24,
      "outputs": [
        {
          "output_type": "stream",
          "name": "stdout",
          "text": [
            "[0.         0.11111111 0.22222222 0.33333333 0.44444444 0.55555556\n",
            " 0.66666667 0.77777778 0.88888889 1.        ]\n"
          ]
        }
      ]
    },
    {
      "cell_type": "code",
      "source": [
        "'''23. Write a Python function using NumPy to create an array of 5 logarithmically spaced values between 1 and\n",
        "1000 (inclusive).'''\n",
        "def generate_log_space():\n",
        "    return np.logspace(0, 3, 5)\n",
        "\n",
        "print(generate_log_space())\n"
      ],
      "metadata": {
        "colab": {
          "base_uri": "https://localhost:8080/"
        },
        "id": "krQ9Xgq_vryk",
        "outputId": "d5ef5f0c-beb0-442f-d7d5-d6c74effb7c6"
      },
      "execution_count": 25,
      "outputs": [
        {
          "output_type": "stream",
          "name": "stdout",
          "text": [
            "[   1.            5.62341325   31.6227766   177.827941   1000.        ]\n"
          ]
        }
      ]
    },
    {
      "cell_type": "code",
      "source": [
        "'''24. Create a Pandas DataFrame using a NumPy array that contains 5 rows and 3 columns, where the values\n",
        "are random integers between 1 and 100.'''\n",
        "import pandas as pd\n",
        "\n",
        "def create_dataframe():\n",
        "    data = np.random.randint(1, 101, size=(5, 3))\n",
        "    return pd.DataFrame(data, columns=['A', 'B', 'C'])\n",
        "\n",
        "print(create_dataframe())\n"
      ],
      "metadata": {
        "colab": {
          "base_uri": "https://localhost:8080/"
        },
        "id": "uk0qDKrxvrwJ",
        "outputId": "470148db-07ac-4f18-de8d-c073c6eebfc2"
      },
      "execution_count": 26,
      "outputs": [
        {
          "output_type": "stream",
          "name": "stdout",
          "text": [
            "    A    B   C\n",
            "0  70   41  26\n",
            "1  88   49  86\n",
            "2  90  100  46\n",
            "3  88   24  10\n",
            "4  26   62  97\n"
          ]
        }
      ]
    },
    {
      "cell_type": "code",
      "source": [
        "'''25. Write a function that takes a Pandas DataFrame and replaces all negative values in a specific column\n",
        "with zeros. Use NumPy operations within the Pandas DataFrame.'''\n",
        "def replace_negatives(df, column):\n",
        "    df[column] = np.where(df[column] < 0, 0, df[column])\n",
        "    return df\n",
        "\n",
        "df = pd.DataFrame({'A': [1, -2, 3], 'B': [-4, 5, -6]})\n",
        "print(replace_negatives(df, 'A'))\n"
      ],
      "metadata": {
        "colab": {
          "base_uri": "https://localhost:8080/"
        },
        "id": "BrIPwCjQvrtT",
        "outputId": "1299d8bc-5ac1-4072-b3f2-019d1afb176b"
      },
      "execution_count": 27,
      "outputs": [
        {
          "output_type": "stream",
          "name": "stdout",
          "text": [
            "   A  B\n",
            "0  1 -4\n",
            "1  0  5\n",
            "2  3 -6\n"
          ]
        }
      ]
    },
    {
      "cell_type": "code",
      "source": [
        "'''26. Access the 3rd element from the given NumPy array.\n",
        "arr = np.array([10, 20, 30, 40, 50])'''\n",
        "arr = np.array([10, 20, 30, 40, 50])\n",
        "print(arr[2])  # Index 2 corresponds to the 3rd element\n"
      ],
      "metadata": {
        "colab": {
          "base_uri": "https://localhost:8080/"
        },
        "id": "_yogfFvZvrqM",
        "outputId": "42461e7b-8385-4b80-dfcc-f19816bcd673"
      },
      "execution_count": 28,
      "outputs": [
        {
          "output_type": "stream",
          "name": "stdout",
          "text": [
            "30\n"
          ]
        }
      ]
    },
    {
      "cell_type": "code",
      "source": [
        "'''27. Retrieve the element at index (1, 2) from the 2D NumPy array.\n",
        "arr_2d = np.array([[1, 2, 3],\n",
        "                   [4, 5, 6],\n",
        "                   [7, 8, 9]])'''\n",
        "arr_2d = np.array([[1, 2, 3], [4, 5, 6], [7, 8, 9]])\n",
        "print(arr_2d[1, 2])  # Row 1, Column 2\n"
      ],
      "metadata": {
        "colab": {
          "base_uri": "https://localhost:8080/"
        },
        "id": "GHdr0PnVvrnR",
        "outputId": "4eaa2584-2a1e-4dd2-aa18-2325f990940e"
      },
      "execution_count": 29,
      "outputs": [
        {
          "output_type": "stream",
          "name": "stdout",
          "text": [
            "6\n"
          ]
        }
      ]
    },
    {
      "cell_type": "code",
      "source": [
        "'''28. Using boolean indexing, extract elements greater than 5 from the given NumPy array.\n",
        "arr = np.array([3, 8, 2, 10, 5, 7])\n",
        "'''\n",
        "arr = np.array([3, 8, 2, 10, 5, 7])\n",
        "print(arr[arr > 5])\n"
      ],
      "metadata": {
        "colab": {
          "base_uri": "https://localhost:8080/"
        },
        "id": "Wbaoun0ZvrkL",
        "outputId": "156ad694-5778-4905-c151-df227457cfee"
      },
      "execution_count": 30,
      "outputs": [
        {
          "output_type": "stream",
          "name": "stdout",
          "text": [
            "[ 8 10  7]\n"
          ]
        }
      ]
    },
    {
      "cell_type": "code",
      "source": [
        "'''29. Perform basic slicing to extract elements from index 2 to 5 (inclusive) from the given NumPy array\n",
        "arr = np.array([1, 2, 3, 4, 5, 6, 7, 8, 9])'''\n",
        "arr = np.array([1, 2, 3, 4, 5, 6, 7, 8, 9])\n",
        "print(arr[2:6])  # Extract indices 2, 3, 4, 5\n"
      ],
      "metadata": {
        "colab": {
          "base_uri": "https://localhost:8080/"
        },
        "id": "Q4karro_vrhH",
        "outputId": "7935b72c-f7e6-4d5b-fd8a-5578c7571d3b"
      },
      "execution_count": 31,
      "outputs": [
        {
          "output_type": "stream",
          "name": "stdout",
          "text": [
            "[3 4 5 6]\n"
          ]
        }
      ]
    },
    {
      "cell_type": "code",
      "source": [
        "'''30. Slice the 2D NumPy array to extract the sub-array [[2, 3], [5, 6]] from the given array.\n",
        "arr = np.array([10, 20, 30, 40, 50])\n",
        "arr = np.array([3, 8, 2, 10, 5, 7])\n",
        "arr = np.array([1, 2, 3, 4, 5, 6, 7, 8, 9])\n",
        "arr_2d = np.array([[1, 2, 3],\n",
        "                   [4, 5, 6],\n",
        "                   [7, 8, 9]])\n",
        "arr_2d = np.array([[1, 2, 3],\n",
        "                   [4, 5, 6],\n",
        "                   [7, 8, 9]])\n",
        "'''\n",
        "arr_2d = np.array([[1, 2, 3], [4, 5, 6], [7, 8, 9]])\n",
        "sub_array = arr_2d[0:2, 1:3]  # Rows 0 to 1, Columns 1 to 2\n",
        "print(sub_array)\n"
      ],
      "metadata": {
        "colab": {
          "base_uri": "https://localhost:8080/"
        },
        "id": "i6zeREEfvreO",
        "outputId": "36ad0b74-641c-41b3-8279-3a06bfe948cc"
      },
      "execution_count": 32,
      "outputs": [
        {
          "output_type": "stream",
          "name": "stdout",
          "text": [
            "[[2 3]\n",
            " [5 6]]\n"
          ]
        }
      ]
    },
    {
      "cell_type": "code",
      "source": [
        "'''31.Write a NumPy function to extract elements in specific order from a given 2D array based on indices\n",
        "provided in another array'''\n",
        "def extract_elements(arr, indices):\n",
        "    return arr[indices[:, 0], indices[:, 1]]\n",
        "\n",
        "arr = np.array([[1, 2, 3], [4, 5, 6], [7, 8, 9]])\n",
        "indices = np.array([[0, 2], [1, 1], [2, 0]])\n",
        "print(extract_elements(arr, indices))  # Output: [3, 5, 7]\n"
      ],
      "metadata": {
        "colab": {
          "base_uri": "https://localhost:8080/"
        },
        "id": "v9_X11QDvrbF",
        "outputId": "b973b3b9-90b7-4e04-dc2a-79e857bfcc37"
      },
      "execution_count": 33,
      "outputs": [
        {
          "output_type": "stream",
          "name": "stdout",
          "text": [
            "[3 5 7]\n"
          ]
        }
      ]
    },
    {
      "cell_type": "code",
      "source": [
        "'''32. Create a NumPy function that filters elements greater than a threshold from a given 1D array using\n",
        "boolean indexing.'''\n",
        "def filter_elements(arr, threshold):\n",
        "    return arr[arr > threshold]\n",
        "\n",
        "arr = np.array([1, 5, 8, 3, 10, 2])\n",
        "print(filter_elements(arr, 5))  # Output: [8, 10]\n"
      ],
      "metadata": {
        "colab": {
          "base_uri": "https://localhost:8080/"
        },
        "id": "h4EkBl5MvrYK",
        "outputId": "0c11e747-a131-44f2-da45-4113987f1502"
      },
      "execution_count": 34,
      "outputs": [
        {
          "output_type": "stream",
          "name": "stdout",
          "text": [
            "[ 8 10]\n"
          ]
        }
      ]
    },
    {
      "cell_type": "code",
      "source": [
        "'''33. Develop a NumPy function that extracts specific elements from a 3D array using indices provided in three\n",
        "separate arrays for each dimension.'''\n",
        "def extract_from_3d(arr, x_idx, y_idx, z_idx):\n",
        "    return arr[x_idx, y_idx, z_idx]\n",
        "\n",
        "arr = np.random.randint(1, 10, (3, 3, 3))\n",
        "x_idx = np.array([0, 1, 2])\n",
        "y_idx = np.array([1, 2, 0])\n",
        "z_idx = np.array([2, 0, 1])\n",
        "print(extract_from_3d(arr, x_idx, y_idx, z_idx))\n"
      ],
      "metadata": {
        "colab": {
          "base_uri": "https://localhost:8080/"
        },
        "id": "X3cvnBmivrVW",
        "outputId": "72a7b555-c224-4af3-ffc7-8a98151d8bdf"
      },
      "execution_count": 35,
      "outputs": [
        {
          "output_type": "stream",
          "name": "stdout",
          "text": [
            "[2 4 1]\n"
          ]
        }
      ]
    },
    {
      "cell_type": "code",
      "source": [
        "'''34. Write a NumPy function that returns elements from an array where both two conditions are satisfied\n",
        "using boolean indexing.'''\n",
        "def filter_conditions(arr, cond1, cond2):\n",
        "    return arr[(arr > cond1) & (arr < cond2)]\n",
        "\n",
        "arr = np.array([1, 5, 8, 3, 10, 2])\n",
        "print(filter_conditions(arr, 3, 9))  # Output: [5, 8]\n"
      ],
      "metadata": {
        "colab": {
          "base_uri": "https://localhost:8080/"
        },
        "id": "a7wtBPtmvrSV",
        "outputId": "4733765c-9c84-45e0-e7c6-fe08c5fabed1"
      },
      "execution_count": 36,
      "outputs": [
        {
          "output_type": "stream",
          "name": "stdout",
          "text": [
            "[5 8]\n"
          ]
        }
      ]
    },
    {
      "cell_type": "code",
      "source": [
        "'''35. Create a NumPy function that extracts elements from a 2D array using row and column indices provided\n",
        "in separate arrays.'''\n",
        "def extract_using_indices(arr, row_indices, col_indices):\n",
        "    return arr[row_indices, col_indices]\n",
        "\n",
        "arr = np.array([[1, 2, 3], [4, 5, 6], [7, 8, 9]])\n",
        "row_indices = np.array([0, 1, 2])\n",
        "col_indices = np.array([2, 1, 0])\n",
        "print(extract_using_indices(arr, row_indices, col_indices))  # Output: [3, 5, 7]\n"
      ],
      "metadata": {
        "colab": {
          "base_uri": "https://localhost:8080/"
        },
        "id": "RTb15NiUvrPk",
        "outputId": "a024e072-fed3-4379-95c2-f6457979370d"
      },
      "execution_count": 37,
      "outputs": [
        {
          "output_type": "stream",
          "name": "stdout",
          "text": [
            "[3 5 7]\n"
          ]
        }
      ]
    },
    {
      "cell_type": "code",
      "source": [
        "'''36. Given an array arr of shape (3, 3), add a scalar value of 5 to each element using NumPy broadcasting.'''\n",
        "arr = np.array([[1, 2, 3], [4, 5, 6], [7, 8, 9]])\n",
        "arr += 5\n",
        "print(arr)\n"
      ],
      "metadata": {
        "colab": {
          "base_uri": "https://localhost:8080/"
        },
        "id": "AIXVYGq8vrMu",
        "outputId": "699725ba-32f5-4bb1-d773-9e1523901c42"
      },
      "execution_count": 38,
      "outputs": [
        {
          "output_type": "stream",
          "name": "stdout",
          "text": [
            "[[ 6  7  8]\n",
            " [ 9 10 11]\n",
            " [12 13 14]]\n"
          ]
        }
      ]
    },
    {
      "cell_type": "code",
      "source": [
        "'''37. Consider two arrays arr1 of shape (1, 3) and arr2 of shape (3, 4). Multiply each row of arr2 by the corresponding element in arr1 using NumPy broadcasting.'''\n",
        "arr1 = np.array([[1, 2, 3]])\n",
        "arr2 = np.random.randint(1, 10, (3, 4))\n",
        "result = arr1.T * arr2\n",
        "print(result)\n"
      ],
      "metadata": {
        "colab": {
          "base_uri": "https://localhost:8080/"
        },
        "id": "8-4TJuzWvrJo",
        "outputId": "9e6f03d7-d9f6-4bf0-f22e-813de4cffd86"
      },
      "execution_count": 39,
      "outputs": [
        {
          "output_type": "stream",
          "name": "stdout",
          "text": [
            "[[ 8  2  6  2]\n",
            " [18  2  4 18]\n",
            " [27  3 21  3]]\n"
          ]
        }
      ]
    },
    {
      "cell_type": "code",
      "source": [
        "'''38. Given a 1D array arr1 of shape (1, 4) and a 2D array arr2 of shape (4, 3), add arr1 to each row of arr2 using\n",
        "NumPy broadcasting.'''\n",
        "arr1 = np.array([1, 2, 3, 4])\n",
        "arr2 = np.random.randint(1, 10, (4, 3))\n",
        "result = arr2 + arr1[:, np.newaxis]\n",
        "print(result)\n"
      ],
      "metadata": {
        "colab": {
          "base_uri": "https://localhost:8080/"
        },
        "id": "OrG2LPdRvrGt",
        "outputId": "4328dc9e-10b2-481a-ed5b-11bca49ff31c"
      },
      "execution_count": 40,
      "outputs": [
        {
          "output_type": "stream",
          "name": "stdout",
          "text": [
            "[[ 2  5  2]\n",
            " [ 6  6  6]\n",
            " [ 9  9  4]\n",
            " [ 6 11 12]]\n"
          ]
        }
      ]
    },
    {
      "cell_type": "code",
      "source": [
        "'''39. Consider two arrays arr1 of shape (3, 1) and arr2 of shape (1, 3). Add these arrays using NumPy\n",
        "broadcasting.'''\n",
        "arr1 = np.array([[1], [2], [3]])\n",
        "arr2 = np.array([[4, 5, 6]])\n",
        "result = arr1 + arr2\n",
        "print(result)\n"
      ],
      "metadata": {
        "colab": {
          "base_uri": "https://localhost:8080/"
        },
        "id": "kSiWeztgvrDv",
        "outputId": "c6af3317-e7db-4481-8577-d484457981e6"
      },
      "execution_count": 41,
      "outputs": [
        {
          "output_type": "stream",
          "name": "stdout",
          "text": [
            "[[5 6 7]\n",
            " [6 7 8]\n",
            " [7 8 9]]\n"
          ]
        }
      ]
    },
    {
      "cell_type": "code",
      "source": [
        "'''40. Given arrays arr1 of shape (2, 3) and arr2 of shape (2, 2), perform multiplication using NumPy\n",
        "broadcasting. Handle the shape incompatibility.'''\n",
        "arr1 = np.random.randint(1, 5, (2, 3))\n",
        "arr2 = np.random.randint(1, 5, (2, 2))\n",
        "try:\n",
        "    result = arr1 * arr2\n",
        "except ValueError as e:\n",
        "    print(f\"Shape mismatch error: {e}\")\n"
      ],
      "metadata": {
        "colab": {
          "base_uri": "https://localhost:8080/"
        },
        "id": "8o9Xw6ulvrAj",
        "outputId": "bc08f5b3-cda9-483e-ed18-fcf9ee13ee64"
      },
      "execution_count": 42,
      "outputs": [
        {
          "output_type": "stream",
          "name": "stdout",
          "text": [
            "Shape mismatch error: operands could not be broadcast together with shapes (2,3) (2,2) \n"
          ]
        }
      ]
    },
    {
      "cell_type": "code",
      "source": [
        "'''41. Calculate column wise mean for the given array:\n",
        "arr = np.array([[1, 2, 3], [4, 5, 6]])'''\n",
        "arr = np.array([[1, 2, 3], [4, 5, 6]])\n",
        "column_mean = np.mean(arr, axis=0)\n",
        "print(column_mean)  # Output: [2.5, 3.5, 4.5]\n"
      ],
      "metadata": {
        "colab": {
          "base_uri": "https://localhost:8080/"
        },
        "id": "SRQQ8s2Yvq98",
        "outputId": "5678fda1-9807-4a63-92be-17e45f9c9af3"
      },
      "execution_count": 43,
      "outputs": [
        {
          "output_type": "stream",
          "name": "stdout",
          "text": [
            "[2.5 3.5 4.5]\n"
          ]
        }
      ]
    },
    {
      "cell_type": "code",
      "source": [
        "'''42. Find maximum value in each row of the given array:arr = np.array([[1, 2, 3], [4, 5, 6]])'''\n",
        "arr = np.array([[1, 2, 3], [4, 5, 6]])\n",
        "row_max = np.max(arr, axis=1)\n",
        "print(row_max)  # Output: [3, 6]\n"
      ],
      "metadata": {
        "colab": {
          "base_uri": "https://localhost:8080/"
        },
        "id": "gWV-YceNvq7H",
        "outputId": "13b58f17-294d-46db-e4aa-d1579601faa2"
      },
      "execution_count": 44,
      "outputs": [
        {
          "output_type": "stream",
          "name": "stdout",
          "text": [
            "[3 6]\n"
          ]
        }
      ]
    },
    {
      "cell_type": "code",
      "source": [
        "'''43. For the given array, find indices of maximum value in each column. arr = np.array([[1, 2, 3], [4, 5, 6]])'''\n",
        "arr = np.array([[1, 2, 3], [4, 5, 6]])\n",
        "col_max_indices = np.argmax(arr, axis=0)\n",
        "print(col_max_indices)  # Output: [1, 1, 1]\n"
      ],
      "metadata": {
        "colab": {
          "base_uri": "https://localhost:8080/"
        },
        "id": "s71KJRWpvq4A",
        "outputId": "d576c400-6d8a-4696-ec6a-db93fa00d31d"
      },
      "execution_count": 45,
      "outputs": [
        {
          "output_type": "stream",
          "name": "stdout",
          "text": [
            "[1 1 1]\n"
          ]
        }
      ]
    },
    {
      "cell_type": "code",
      "source": [
        "'''44. For the given array, apply custom function to calculate moving sum along rows.\n",
        "arr = np.array([[1, 2, 3], [4, 5, 6]])'''\n",
        "def moving_sum(arr, window):\n",
        "    return np.array([np.convolve(row, np.ones(window, dtype=int), 'valid') for row in arr])\n",
        "\n",
        "arr = np.array([[1, 2, 3], [4, 5, 6]])\n",
        "print(moving_sum(arr, window=2))  # Output: [[3, 5], [9, 11]]\n"
      ],
      "metadata": {
        "colab": {
          "base_uri": "https://localhost:8080/"
        },
        "id": "29PJBhTZygoj",
        "outputId": "bd6a6387-68c3-4584-a027-bab224e81616"
      },
      "execution_count": 46,
      "outputs": [
        {
          "output_type": "stream",
          "name": "stdout",
          "text": [
            "[[ 3  5]\n",
            " [ 9 11]]\n"
          ]
        }
      ]
    },
    {
      "cell_type": "code",
      "source": [
        "'''45. In the given array, check if all elements in each column are even.arr = np.array([[2, 4, 6], [3, 5, 7]])'''\n",
        "arr = np.array([[2, 4, 6], [3, 5, 7]])\n",
        "col_all_even = np.all(arr % 2 == 0, axis=0)\n",
        "print(col_all_even)  # Output: [False, False, False]\n"
      ],
      "metadata": {
        "colab": {
          "base_uri": "https://localhost:8080/"
        },
        "id": "MEL80oMZyglQ",
        "outputId": "a731c335-ba8a-49f5-864c-05691166f3ad"
      },
      "execution_count": 47,
      "outputs": [
        {
          "output_type": "stream",
          "name": "stdout",
          "text": [
            "[False False False]\n"
          ]
        }
      ]
    },
    {
      "cell_type": "code",
      "source": [
        "'''46. Given a NumPy array arr, reshape it into a matrix of dimensions m rows and n columns. Return the\n",
        "reshaped matrix.original_array = np.array([1, 2, 3, 4, 5, 6])'''\n",
        "def reshape_array(arr, m, n):\n",
        "    return arr.reshape((m, n))\n",
        "\n",
        "original_array = np.array([1, 2, 3, 4, 5, 6])\n",
        "print(reshape_array(original_array, 2, 3))  # Output: [[1, 2, 3], [4, 5, 6]]\n"
      ],
      "metadata": {
        "colab": {
          "base_uri": "https://localhost:8080/"
        },
        "id": "V4o1DBGhygiK",
        "outputId": "f6fbfa57-0927-4a53-8daf-6dcbf5c823a9"
      },
      "execution_count": 48,
      "outputs": [
        {
          "output_type": "stream",
          "name": "stdout",
          "text": [
            "[[1 2 3]\n",
            " [4 5 6]]\n"
          ]
        }
      ]
    },
    {
      "cell_type": "code",
      "source": [
        "'''47. Create a function that takes a matrix as input and returns the flattened array.input_matrix = np.array([[1, 2, 3], [4, 5, 6]])'''\n",
        "def flatten_matrix(matrix):\n",
        "    return matrix.flatten()\n",
        "\n",
        "input_matrix = np.array([[1, 2, 3], [4, 5, 6]])\n",
        "print(flatten_matrix(input_matrix))  # Output: [1, 2, 3, 4, 5, 6]\n"
      ],
      "metadata": {
        "colab": {
          "base_uri": "https://localhost:8080/"
        },
        "id": "uXYGQVQmyge-",
        "outputId": "2f31a832-2f6a-4132-b0f4-db54728d25d3"
      },
      "execution_count": 49,
      "outputs": [
        {
          "output_type": "stream",
          "name": "stdout",
          "text": [
            "[1 2 3 4 5 6]\n"
          ]
        }
      ]
    },
    {
      "cell_type": "code",
      "source": [
        "'''48. Write a function that concatenates two given arrays along a specified axis.array1 = np.array([[1, 2], [3, 4]])\n",
        "array2 = np.array([[5, 6], [7, 8]]) '''\n",
        "def concatenate_arrays(arr1, arr2, axis):\n",
        "    return np.concatenate((arr1, arr2), axis=axis)\n",
        "\n",
        "array1 = np.array([[1, 2], [3, 4]])\n",
        "array2 = np.array([[5, 6], [7, 8]])\n",
        "print(concatenate_arrays(array1, array2, axis=0))  # Output: Vertical concatenation\n",
        "print(concatenate_arrays(array1, array2, axis=1))  # Output: Horizontal concatenation\n"
      ],
      "metadata": {
        "colab": {
          "base_uri": "https://localhost:8080/"
        },
        "id": "N5mgCAI_ygbz",
        "outputId": "ddfdaa6e-080e-42e8-ddb6-ad64ce4f045c"
      },
      "execution_count": 50,
      "outputs": [
        {
          "output_type": "stream",
          "name": "stdout",
          "text": [
            "[[1 2]\n",
            " [3 4]\n",
            " [5 6]\n",
            " [7 8]]\n",
            "[[1 2 5 6]\n",
            " [3 4 7 8]]\n"
          ]
        }
      ]
    },
    {
      "cell_type": "code",
      "source": [
        "'''49. Create a function that splits an array into multiple sub-arrays along a specified axis.original_array = np.array([[1, 2, 3], [4, 5, 6], [7, 8, 9]])'''\n",
        "def split_array(arr, sections, axis):\n",
        "    return np.array_split(arr, sections, axis=axis)\n",
        "\n",
        "original_array = np.array([[1, 2, 3], [4, 5, 6], [7, 8, 9]])\n",
        "print(split_array(original_array, 3, axis=0))  # Output: Split along rows\n"
      ],
      "metadata": {
        "colab": {
          "base_uri": "https://localhost:8080/"
        },
        "id": "_wlx_goEzoa7",
        "outputId": "a2996b23-6596-424d-facb-6f4f2b2d4cb9"
      },
      "execution_count": 51,
      "outputs": [
        {
          "output_type": "stream",
          "name": "stdout",
          "text": [
            "[array([[1, 2, 3]]), array([[4, 5, 6]]), array([[7, 8, 9]])]\n"
          ]
        }
      ]
    },
    {
      "cell_type": "code",
      "source": [
        "'''50. Write a function that inserts and then deletes elements from a given array at specified indices.\n",
        "original_array = np.array([1, 2, 3, 4, 5])\n",
        "indices_to_insert = [2, 4]\n",
        "values_to_insert = [10, 11]\n",
        "indices_to_delete = [1, 3] '''\n",
        "def modify_array(arr, indices_insert, values_insert, indices_delete):\n",
        "    arr = np.insert(arr, indices_insert, values_insert)\n",
        "    arr = np.delete(arr, indices_delete)\n",
        "    return arr\n",
        "\n",
        "original_array = np.array([1, 2, 3, 4, 5])\n",
        "indices_to_insert = [2, 4]\n",
        "values_to_insert = [10, 11]\n",
        "indices_to_delete = [1, 3]\n",
        "print(modify_array(original_array, indices_to_insert, values_to_insert, indices_to_delete))\n",
        "# Output: [ 1  3 10 11  5]\n"
      ],
      "metadata": {
        "colab": {
          "base_uri": "https://localhost:8080/"
        },
        "id": "0uRZInNWzoXp",
        "outputId": "6160628f-259b-415a-f057-2eb1854a798b"
      },
      "execution_count": 52,
      "outputs": [
        {
          "output_type": "stream",
          "name": "stdout",
          "text": [
            "[ 1 10  4 11  5]\n"
          ]
        }
      ]
    },
    {
      "cell_type": "code",
      "source": [
        "'''51. Create a NumPy array arr1 with random integers and another array arr2 with integers from 1 to 10.\n",
        "Perform element-wise addition between arr1 and arr2.'''\n",
        "arr1 = np.random.randint(1, 10, 10)\n",
        "arr2 = np.arange(1, 11)\n",
        "print(arr1 + arr2)\n"
      ],
      "metadata": {
        "colab": {
          "base_uri": "https://localhost:8080/"
        },
        "id": "mnO3-Ki8zoUi",
        "outputId": "01071b05-11ee-42a0-c260-e20a1978d570"
      },
      "execution_count": 53,
      "outputs": [
        {
          "output_type": "stream",
          "name": "stdout",
          "text": [
            "[ 6  9  4  6  8 15 13 16 12 12]\n"
          ]
        }
      ]
    },
    {
      "cell_type": "code",
      "source": [
        "'''52. Generate a NumPy array arr1 with sequential integers from 10 to 1 and another array arr2 with integers\n",
        "from 1 to 10. Subtract arr2 from arr1 element-wise.'''\n",
        "arr1 = np.arange(10, 0, -1)\n",
        "arr2 = np.arange(1, 11)\n",
        "print(arr1 - arr2)\n"
      ],
      "metadata": {
        "colab": {
          "base_uri": "https://localhost:8080/"
        },
        "id": "1G_yzUBuzoRf",
        "outputId": "9a4303e4-6a2f-437c-e850-1ce35dc861f3"
      },
      "execution_count": 54,
      "outputs": [
        {
          "output_type": "stream",
          "name": "stdout",
          "text": [
            "[ 9  7  5  3  1 -1 -3 -5 -7 -9]\n"
          ]
        }
      ]
    },
    {
      "cell_type": "code",
      "source": [
        "'''53. Create a NumPy array arr1 with random integers and another array arr2 with integers from 1 to 5.\n",
        "Perform element-wise multiplication between arr1 and arr2.'''\n",
        "arr1 = np.random.randint(1, 10, 10)\n",
        "arr2 = np.arange(1, 6)\n",
        "print(arr1[:5] * arr2)\n"
      ],
      "metadata": {
        "colab": {
          "base_uri": "https://localhost:8080/"
        },
        "id": "y63rwQj_zoOe",
        "outputId": "c7cd41a1-543f-46cf-a008-43855605ecb3"
      },
      "execution_count": 55,
      "outputs": [
        {
          "output_type": "stream",
          "name": "stdout",
          "text": [
            "[ 3 12 27 32 10]\n"
          ]
        }
      ]
    },
    {
      "cell_type": "code",
      "source": [
        "'''54. Generate a NumPy array arr1 with even integers from 2 to 10 and another array arr2 with integers from 1\n",
        "to 5. Perform element-wise division of arr1 by arr2.'''\n",
        "arr1 = np.arange(2, 12, 2)\n",
        "arr2 = np.arange(1, 6)\n",
        "print(arr1 / arr2)\n"
      ],
      "metadata": {
        "colab": {
          "base_uri": "https://localhost:8080/"
        },
        "id": "rZOATUk5zoL1",
        "outputId": "d5fda705-4fa8-45d2-8df0-0a902d4db49c"
      },
      "execution_count": 56,
      "outputs": [
        {
          "output_type": "stream",
          "name": "stdout",
          "text": [
            "[2. 2. 2. 2. 2.]\n"
          ]
        }
      ]
    },
    {
      "cell_type": "code",
      "source": [
        "'''55. Create a NumPy array arr1 with integers from 1 to 5 and another array arr2 with the same numbers\n",
        "reversed. Calculate the exponentiation of arr1 raised to the power of arr2 element-wise.'''\n",
        "arr1 = np.arange(1, 6)\n",
        "arr2 = arr1[::-1]\n",
        "print(arr1 ** arr2)  # Output: [  1  16  27  16   5]\n"
      ],
      "metadata": {
        "colab": {
          "base_uri": "https://localhost:8080/"
        },
        "id": "k0Wbaa4azoI7",
        "outputId": "8609a898-d664-4218-ab0d-e7ac362777f0"
      },
      "execution_count": 57,
      "outputs": [
        {
          "output_type": "stream",
          "name": "stdout",
          "text": [
            "[ 1 16 27 16  5]\n"
          ]
        }
      ]
    },
    {
      "cell_type": "code",
      "source": [
        "'''56. Write a function that counts the occurrences of a specific substring within a NumPy array of strings.\n",
        "arr = np.array(['hello', 'world', 'hello', 'numpy', 'hello'])'''\n",
        "def count_substring(arr, substring):\n",
        "    return np.char.count(arr, substring).sum()\n",
        "\n",
        "arr = np.array(['hello', 'world', 'hello', 'numpy', 'hello'])\n",
        "print(count_substring(arr, 'hello'))  # Output: 3\n"
      ],
      "metadata": {
        "colab": {
          "base_uri": "https://localhost:8080/"
        },
        "id": "9fO60bCZzoGF",
        "outputId": "b9a9d0f5-41b6-4821-b207-c74c1ab7df0c"
      },
      "execution_count": 58,
      "outputs": [
        {
          "output_type": "stream",
          "name": "stdout",
          "text": [
            "3\n"
          ]
        }
      ]
    },
    {
      "cell_type": "code",
      "source": [
        "'''57. Write a function that extracts uppercase characters from a NumPy array of strings.\n",
        "\n",
        "arr = np.array(['Hello', 'World', 'OpenAI', 'GPT'])'''\n",
        "def extract_uppercase(arr):\n",
        "    return np.array([''.join([char for char in string if char.isupper()]) for string in arr])\n",
        "\n",
        "arr = np.array(['Hello', 'World', 'OpenAI', 'GPT'])\n",
        "print(extract_uppercase(arr))  # Output: ['H' 'W' 'OA' 'GPT']\n"
      ],
      "metadata": {
        "colab": {
          "base_uri": "https://localhost:8080/"
        },
        "id": "XG_pweoCzoC4",
        "outputId": "50cf587a-326b-46db-f2b6-5e3fd1da67ee"
      },
      "execution_count": 59,
      "outputs": [
        {
          "output_type": "stream",
          "name": "stdout",
          "text": [
            "['H' 'W' 'OAI' 'GPT']\n"
          ]
        }
      ]
    },
    {
      "cell_type": "code",
      "source": [
        "'''58. Write a function that replaces occurrences of a substring in a NumPy array of strings with a new string. arr = np.array(['apple', 'banana', 'grape', 'pineapple']) '''\n",
        "def replace_substring(arr, old, new):\n",
        "    return np.char.replace(arr, old, new)\n",
        "\n",
        "arr = np.array(['apple', 'banana', 'grape', 'pineapple'])\n",
        "print(replace_substring(arr, 'apple', 'orange'))  # Output: ['orange' 'banana' 'grape' 'pineorange']\n"
      ],
      "metadata": {
        "colab": {
          "base_uri": "https://localhost:8080/"
        },
        "id": "XOEi8AOszoAP",
        "outputId": "9d32dfcc-a87e-4aaa-f593-38901b625d79"
      },
      "execution_count": 60,
      "outputs": [
        {
          "output_type": "stream",
          "name": "stdout",
          "text": [
            "['orange' 'banana' 'grape' 'pineorange']\n"
          ]
        }
      ]
    },
    {
      "cell_type": "code",
      "source": [
        "'''59. Write a function that concatenates strings in a NumPy array element-wise.arr1 = np.array(['Hello', 'World'])\n",
        "arr2 = np.array(['Open', 'AI']) '''\n",
        "def concatenate_strings(arr1, arr2):\n",
        "    return np.char.add(arr1, arr2)\n",
        "\n",
        "arr1 = np.array(['Hello', 'World'])\n",
        "arr2 = np.array(['Open', 'AI'])\n",
        "print(concatenate_strings(arr1, arr2))  # Output: ['HelloOpen' 'WorldAI']\n"
      ],
      "metadata": {
        "colab": {
          "base_uri": "https://localhost:8080/"
        },
        "id": "6NrRoBDlzn9H",
        "outputId": "bf9cf3df-0ded-4cf3-a527-e7e29089aec6"
      },
      "execution_count": 61,
      "outputs": [
        {
          "output_type": "stream",
          "name": "stdout",
          "text": [
            "['HelloOpen' 'WorldAI']\n"
          ]
        }
      ]
    },
    {
      "cell_type": "code",
      "source": [
        "'''60. Write a function that finds the length of the longest string in a NumPy array.\n",
        "\n",
        "arr = np.array(['apple', 'banana', 'grape', 'pineapple'])'''\n",
        "def find_longest_string_length(arr):\n",
        "    return max(np.char.str_len(arr))\n",
        "\n",
        "arr = np.array(['apple', 'banana', 'grape', 'pineapple'])\n",
        "print(find_longest_string_length(arr))  # Output: 9\n"
      ],
      "metadata": {
        "colab": {
          "base_uri": "https://localhost:8080/"
        },
        "id": "q75bp6iSzn6V",
        "outputId": "a838e739-890e-4f7c-a517-bb62c805cdeb"
      },
      "execution_count": 62,
      "outputs": [
        {
          "output_type": "stream",
          "name": "stdout",
          "text": [
            "9\n"
          ]
        }
      ]
    },
    {
      "cell_type": "code",
      "source": [
        "'''61. Create a dataset of 100 random integers between 1 and 1000. Compute the mean, median, variance, and\n",
        "standard deviation of the dataset using NumPy's functions.'''\n",
        "data = np.random.randint(1, 1001, 100)\n",
        "print(f\"Mean: {np.mean(data)}\")\n",
        "print(f\"Median: {np.median(data)}\")\n",
        "print(f\"Variance: {np.var(data)}\")\n",
        "print(f\"Standard Deviation: {np.std(data)}\")\n"
      ],
      "metadata": {
        "colab": {
          "base_uri": "https://localhost:8080/"
        },
        "id": "txkajb4tzn3h",
        "outputId": "84eb4eb3-1a0a-44d8-9739-271f737297f2"
      },
      "execution_count": 63,
      "outputs": [
        {
          "output_type": "stream",
          "name": "stdout",
          "text": [
            "Mean: 505.12\n",
            "Median: 519.0\n",
            "Variance: 85258.58559999999\n",
            "Standard Deviation: 291.9907286199341\n"
          ]
        }
      ]
    },
    {
      "cell_type": "code",
      "source": [
        "'''62. Generate an array of 50 random numbers between 1 and 100. Find the 25th and 75th percentiles of the\n",
        "dataset.'''\n",
        "data = np.random.randint(1, 101, 50)\n",
        "print(f\"25th Percentile: {np.percentile(data, 25)}\")\n",
        "print(f\"75th Percentile: {np.percentile(data, 75)}\")\n"
      ],
      "metadata": {
        "colab": {
          "base_uri": "https://localhost:8080/"
        },
        "id": "-melhW1xzn00",
        "outputId": "92a2c76f-0daa-4da1-ece0-5941de727675"
      },
      "execution_count": 64,
      "outputs": [
        {
          "output_type": "stream",
          "name": "stdout",
          "text": [
            "25th Percentile: 22.25\n",
            "75th Percentile: 75.75\n"
          ]
        }
      ]
    },
    {
      "cell_type": "code",
      "source": [
        "'''63. Create two arrays representing two sets of variables. Compute the correlation coefficient between these\n",
        "arrays using NumPy's corrcoef function'''\n",
        "arr1 = np.random.rand(50)\n",
        "arr2 = np.random.rand(50)\n",
        "print(np.corrcoef(arr1, arr2))\n"
      ],
      "metadata": {
        "colab": {
          "base_uri": "https://localhost:8080/"
        },
        "id": "9FJ0K62tznx7",
        "outputId": "a4ade28a-8d9d-425a-9619-9937553b1dcc"
      },
      "execution_count": 65,
      "outputs": [
        {
          "output_type": "stream",
          "name": "stdout",
          "text": [
            "[[ 1.         -0.09450008]\n",
            " [-0.09450008  1.        ]]\n"
          ]
        }
      ]
    },
    {
      "cell_type": "code",
      "source": [
        "'''64. Create two matrices and perform matrix multiplication using NumPy's dot function.'''\n",
        "matrix1 = np.array([[1, 2], [3, 4]])\n",
        "matrix2 = np.array([[5, 6], [7, 8]])\n",
        "print(np.dot(matrix1, matrix2))\n"
      ],
      "metadata": {
        "colab": {
          "base_uri": "https://localhost:8080/"
        },
        "id": "6OJJ9Iy_znuo",
        "outputId": "0e514eeb-d7e9-4242-e946-ec2220fbc6b8"
      },
      "execution_count": 66,
      "outputs": [
        {
          "output_type": "stream",
          "name": "stdout",
          "text": [
            "[[19 22]\n",
            " [43 50]]\n"
          ]
        }
      ]
    },
    {
      "cell_type": "code",
      "source": [
        "'''65. Create an array of 50 integers between 10 and 1000. Calculate the 10th, 50th (median), and 90th\n",
        "percentiles along with the first and third quartiles.'''\n",
        "data = np.random.randint(10, 1001, 50)\n",
        "print(f\"10th Percentile: {np.percentile(data, 10)}\")\n",
        "print(f\"50th Percentile (Median): {np.percentile(data, 50)}\")\n",
        "print(f\"90th Percentile: {np.percentile(data, 90)}\")\n",
        "print(f\"First Quartile (25th Percentile): {np.percentile(data, 25)}\")\n",
        "print(f\"Third Quartile (75th Percentile): {np.percentile(data, 75)}\")\n"
      ],
      "metadata": {
        "colab": {
          "base_uri": "https://localhost:8080/"
        },
        "id": "HtRMzffxznry",
        "outputId": "41abded5-fc8d-4f84-cb2a-196349f24c6d"
      },
      "execution_count": 67,
      "outputs": [
        {
          "output_type": "stream",
          "name": "stdout",
          "text": [
            "10th Percentile: 106.10000000000001\n",
            "50th Percentile (Median): 508.0\n",
            "90th Percentile: 904.2\n",
            "First Quartile (25th Percentile): 188.25\n",
            "Third Quartile (75th Percentile): 779.5\n"
          ]
        }
      ]
    },
    {
      "cell_type": "code",
      "source": [
        "'''66. Create a NumPy array of integers and find the index of a specific element.'''\n",
        "arr = np.array([10, 20, 30, 40, 50])\n",
        "element = 30\n",
        "print(np.where(arr == element))  # Output: (array([2]),)\n"
      ],
      "metadata": {
        "colab": {
          "base_uri": "https://localhost:8080/"
        },
        "id": "Ii6q6g_dzno2",
        "outputId": "8265f668-dc2d-45d5-a423-5bcc65cd1f1a"
      },
      "execution_count": 68,
      "outputs": [
        {
          "output_type": "stream",
          "name": "stdout",
          "text": [
            "(array([2]),)\n"
          ]
        }
      ]
    },
    {
      "cell_type": "code",
      "source": [
        "'''67. Generate a random NumPy array and sort it in ascending order.'''\n",
        "arr = np.random.randint(1, 101, 10)\n",
        "print(np.sort(arr))  # Output: Sorted array\n"
      ],
      "metadata": {
        "colab": {
          "base_uri": "https://localhost:8080/"
        },
        "id": "XKzJuZewznmU",
        "outputId": "3c5e30ce-4eb4-4c31-fcf6-04742bc36e4e"
      },
      "execution_count": 69,
      "outputs": [
        {
          "output_type": "stream",
          "name": "stdout",
          "text": [
            "[ 1  1  2 12 20 25 28 85 86 96]\n"
          ]
        }
      ]
    },
    {
      "cell_type": "code",
      "source": [
        "'''68. Filterelements >20  in the given NumPy array. arr = np.array([12, 25, 6, 42, 8, 30])'''\n",
        "arr = np.array([12, 25, 6, 42, 8, 30])\n",
        "print(arr[arr > 20])  # Output: [25 42 30]\n"
      ],
      "metadata": {
        "colab": {
          "base_uri": "https://localhost:8080/"
        },
        "id": "tr-do5JwznjN",
        "outputId": "9e9d0c14-464b-4e39-bb08-0840b8c6ef39"
      },
      "execution_count": 70,
      "outputs": [
        {
          "output_type": "stream",
          "name": "stdout",
          "text": [
            "[25 42 30]\n"
          ]
        }
      ]
    },
    {
      "cell_type": "code",
      "source": [
        "'''69. Filter elements which are divisible by 3 from a given NumPy array. arr = np.array([1, 5, 8, 12, 15])'''\n",
        "arr = np.array([1, 5, 8, 12, 15])\n",
        "print(arr[arr % 3 == 0])  # Output: [12 15]\n"
      ],
      "metadata": {
        "colab": {
          "base_uri": "https://localhost:8080/"
        },
        "id": "8EZ3nQ6cznge",
        "outputId": "d2d53819-f309-49d4-ab53-c538d986f8c8"
      },
      "execution_count": 71,
      "outputs": [
        {
          "output_type": "stream",
          "name": "stdout",
          "text": [
            "[12 15]\n"
          ]
        }
      ]
    },
    {
      "cell_type": "code",
      "source": [
        "'''70. Filter elements which are ≥ 20 and ≤ 40 from a given NumPy array.  arr = np.array([10, 20, 30, 40, 50])'''\n",
        "arr = np.array([10, 20, 30, 40, 50])\n",
        "print(arr[(arr >= 20) & (arr <= 40)])  # Output: [20 30 40]\n",
        "\n",
        ""
      ],
      "metadata": {
        "colab": {
          "base_uri": "https://localhost:8080/"
        },
        "id": "3K_8SqAxzndm",
        "outputId": "cb575307-9262-4c3d-c783-b387653bcdbc"
      },
      "execution_count": 72,
      "outputs": [
        {
          "output_type": "stream",
          "name": "stdout",
          "text": [
            "[20 30 40]\n"
          ]
        }
      ]
    },
    {
      "cell_type": "code",
      "source": [
        "'''71. For the given NumPy array, check its byte order using the dtype attribute byteorder.  arr = np.array([1, 2, 3])'''\n",
        "arr = np.array([1, 2, 3])\n",
        "print(arr.dtype.byteorder)  # Output: '=' (native), '<' (little-endian), or '>' (big-endian)\n"
      ],
      "metadata": {
        "colab": {
          "base_uri": "https://localhost:8080/"
        },
        "id": "Be6hX-fIznav",
        "outputId": "36489c9b-8eee-4751-bc0d-e2bf51b0bc07"
      },
      "execution_count": 73,
      "outputs": [
        {
          "output_type": "stream",
          "name": "stdout",
          "text": [
            "=\n"
          ]
        }
      ]
    },
    {
      "cell_type": "code",
      "source": [
        "'''72. For the given NumPy array, perform byte swapping in place using byteswap(). arr = np.array([1, 2, 3], dtype=np.int32)'''\n",
        "import numpy as np\n",
        "\n",
        "arr = np.array([1, 2, 3], dtype=np.int32)\n",
        "arr.byteswap(inplace=True)\n",
        "print(\"Byte-swapped array:\", arr)\n"
      ],
      "metadata": {
        "colab": {
          "base_uri": "https://localhost:8080/"
        },
        "id": "P4ghceEdJo2C",
        "outputId": "49c433d6-9468-4002-fa1b-b71cd0c8647b"
      },
      "execution_count": 74,
      "outputs": [
        {
          "output_type": "stream",
          "name": "stdout",
          "text": [
            "Byte-swapped array: [16777216 33554432 50331648]\n"
          ]
        }
      ]
    },
    {
      "cell_type": "code",
      "source": [
        "'''73. For the given NumPy array, swap its byte order without modifying the original array using\n",
        "newbyteorder(). arr = np.array([1, 2, 3], dtype=np.int32)'''\n",
        "arr = np.array([1, 2, 3], dtype=np.int32)\n",
        "swapped_arr = arr.newbyteorder()\n",
        "print(\"Original array:\", arr)\n",
        "print(\"Byte-swapped array:\", swapped_arr)\n"
      ],
      "metadata": {
        "colab": {
          "base_uri": "https://localhost:8080/"
        },
        "id": "iXTFMHULKAlJ",
        "outputId": "2731a4f0-a993-4b84-ca8c-298f45d9df86"
      },
      "execution_count": 75,
      "outputs": [
        {
          "output_type": "stream",
          "name": "stdout",
          "text": [
            "Original array: [1 2 3]\n",
            "Byte-swapped array: [16777216 33554432 50331648]\n"
          ]
        }
      ]
    },
    {
      "cell_type": "code",
      "source": [
        "'''74. For the given NumPy array and swap its byte order conditionally based on system endianness using\n",
        "newbyteorder(). arr = np.array([1, 2, 3], dtype=np.int32)'''\n",
        "arr = np.array([1, 2, 3], dtype=np.int32)\n",
        "if arr.dtype.byteorder == '=':  # Native endianness\n",
        "    swapped_arr = arr.newbyteorder()\n",
        "    print(\"Swapped array:\", swapped_arr)\n",
        "else:\n",
        "    print(\"Byte swapping not required.\")\n"
      ],
      "metadata": {
        "colab": {
          "base_uri": "https://localhost:8080/"
        },
        "id": "FEeiknyqKAWm",
        "outputId": "233eb50c-ddbc-4569-d09a-fd5800419b72"
      },
      "execution_count": 76,
      "outputs": [
        {
          "output_type": "stream",
          "name": "stdout",
          "text": [
            "Swapped array: [16777216 33554432 50331648]\n"
          ]
        }
      ]
    },
    {
      "cell_type": "code",
      "source": [
        "'''75. For the given NumPy array, check if byte swapping is necessary for the current system using dtype\n",
        "attribute byteorder. arr = np.array([1, 2, 3], dtype=np.int32)'''\n",
        "arr = np.array([1, 2, 3], dtype=np.int32)\n",
        "if arr.dtype.byteorder == '=':\n",
        "    print(\"Byte swapping may be necessary.\")\n",
        "else:\n",
        "    print(\"No byte swapping needed.\")\n"
      ],
      "metadata": {
        "colab": {
          "base_uri": "https://localhost:8080/"
        },
        "id": "rlBuCB3pKAHy",
        "outputId": "ff799742-7d29-4bf7-8318-fd4a6d679563"
      },
      "execution_count": 77,
      "outputs": [
        {
          "output_type": "stream",
          "name": "stdout",
          "text": [
            "Byte swapping may be necessary.\n"
          ]
        }
      ]
    },
    {
      "cell_type": "code",
      "source": [
        "'''76. Create a NumPy array arr1 with values from 1 to 10. Create a copy of arr1 named copy_arr and modify\n",
        "an element in copy_arr. Check if modifying copy_arr affects arr1.'''\n",
        "arr1 = np.arange(1, 11)\n",
        "copy_arr = arr1.copy()\n",
        "copy_arr[0] = 99\n",
        "print(\"Original array:\", arr1)\n",
        "print(\"Modified copy:\", copy_arr)\n"
      ],
      "metadata": {
        "colab": {
          "base_uri": "https://localhost:8080/"
        },
        "id": "e1ndJXJGJ_ys",
        "outputId": "f61e1eff-fa03-4733-d0fa-8c52e1c34588"
      },
      "execution_count": 78,
      "outputs": [
        {
          "output_type": "stream",
          "name": "stdout",
          "text": [
            "Original array: [ 1  2  3  4  5  6  7  8  9 10]\n",
            "Modified copy: [99  2  3  4  5  6  7  8  9 10]\n"
          ]
        }
      ]
    },
    {
      "cell_type": "code",
      "source": [
        "'''77. Create a 2D NumPy array matrix of shape (3, 3) with random integers. Extract a slice view_slice from\n",
        "the matrix. Modify an element in view_slice and observe if it changes the original matrix.'''\n",
        "matrix = np.random.randint(1, 10, size=(3, 3))\n",
        "view_slice = matrix[:2, :2]\n",
        "view_slice[0, 0] = 99\n",
        "print(\"Original matrix:\", matrix)\n",
        "print(\"View slice:\", view_slice)\n"
      ],
      "metadata": {
        "colab": {
          "base_uri": "https://localhost:8080/"
        },
        "id": "edaDc6lUJ_v5",
        "outputId": "5632aa67-8995-4802-b70e-99a7fe8ec1d5"
      },
      "execution_count": 79,
      "outputs": [
        {
          "output_type": "stream",
          "name": "stdout",
          "text": [
            "Original matrix: [[99  9  7]\n",
            " [ 3  2  1]\n",
            " [ 8  3  5]]\n",
            "View slice: [[99  9]\n",
            " [ 3  2]]\n"
          ]
        }
      ]
    },
    {
      "cell_type": "code",
      "source": [
        "'''78. Create a NumPy array array_a of shape (4, 3) with sequential integers from 1 to 12. Extract a slice\n",
        "view_b from array_a and broadcast the addition of 5 to view_b. Check if it alters the original array_a.'''\n",
        "array_a = np.arange(1, 13).reshape(4, 3)\n",
        "view_b = array_a[1:3, :]\n",
        "view_b += 5\n",
        "print(\"Original array after modification:\", array_a)\n",
        "print(\"Modified slice:\", view_b)\n"
      ],
      "metadata": {
        "colab": {
          "base_uri": "https://localhost:8080/"
        },
        "id": "d_x52BOSJ_s1",
        "outputId": "c4a142f9-1c56-4428-9f45-9930f62ba600"
      },
      "execution_count": 80,
      "outputs": [
        {
          "output_type": "stream",
          "name": "stdout",
          "text": [
            "Original array after modification: [[ 1  2  3]\n",
            " [ 9 10 11]\n",
            " [12 13 14]\n",
            " [10 11 12]]\n",
            "Modified slice: [[ 9 10 11]\n",
            " [12 13 14]]\n"
          ]
        }
      ]
    },
    {
      "cell_type": "code",
      "source": [
        "'''79. Create a NumPy array orig_array of shape (2, 4) with values from 1 to 8. Create a reshaped view\n",
        "reshaped_view of shape (4, 2) from orig_array. Modify an element in reshaped_view and check if it\n",
        "reflects changes in the original orig_array.'''\n",
        "orig_array = np.arange(1, 9).reshape(2, 4)\n",
        "reshaped_view = orig_array.reshape(4, 2)\n",
        "reshaped_view[0, 0] = 99\n",
        "print(\"Original array:\", orig_array)\n",
        "print(\"Reshaped view:\", reshaped_view)\n"
      ],
      "metadata": {
        "colab": {
          "base_uri": "https://localhost:8080/"
        },
        "id": "_vdmi3ioJ_qO",
        "outputId": "19451f48-e921-46f0-c6aa-35f7b56080ef"
      },
      "execution_count": 81,
      "outputs": [
        {
          "output_type": "stream",
          "name": "stdout",
          "text": [
            "Original array: [[99  2  3  4]\n",
            " [ 5  6  7  8]]\n",
            "Reshaped view: [[99  2]\n",
            " [ 3  4]\n",
            " [ 5  6]\n",
            " [ 7  8]]\n"
          ]
        }
      ]
    },
    {
      "cell_type": "code",
      "source": [
        "'''80. Create a NumPy array data of shape (3, 4) with random integers. Extract a copy data_copy of\n",
        "elements greater than 5. Modify an element in data_copy and verify if it affects the original data.'''\n",
        "data = np.random.randint(1, 10, size=(3, 4))\n",
        "data_copy = data[data > 5].copy()\n",
        "data_copy[0] = 99\n",
        "print(\"Original data:\", data)\n",
        "print(\"Modified copy:\", data_copy)\n"
      ],
      "metadata": {
        "colab": {
          "base_uri": "https://localhost:8080/"
        },
        "id": "VGE1ye8MJ_n6",
        "outputId": "3aac9bb2-e851-48e5-e8ad-ed86adc563ae"
      },
      "execution_count": 82,
      "outputs": [
        {
          "output_type": "stream",
          "name": "stdout",
          "text": [
            "Original data: [[2 7 6 7]\n",
            " [1 8 8 6]\n",
            " [5 9 7 1]]\n",
            "Modified copy: [99  6  7  8  8  6  9  7]\n"
          ]
        }
      ]
    },
    {
      "cell_type": "code",
      "source": [
        "'''81. Create two matrices A and B of identical shape containing integers and perform addition and subtraction\n",
        "operations between them.'''\n",
        "A = np.random.randint(1, 10, size=(3, 3))\n",
        "B = np.random.randint(1, 10, size=(3, 3))\n",
        "print(\"Matrix A:\\n\", A)\n",
        "print(\"Matrix B:\\n\", B)\n",
        "print(\"Addition:\\n\", A + B)\n",
        "print(\"Subtraction:\\n\", A - B)\n"
      ],
      "metadata": {
        "colab": {
          "base_uri": "https://localhost:8080/"
        },
        "id": "sox0W6INJ_lT",
        "outputId": "43d04693-c4bf-4b41-a712-9318e5d4e524"
      },
      "execution_count": 83,
      "outputs": [
        {
          "output_type": "stream",
          "name": "stdout",
          "text": [
            "Matrix A:\n",
            " [[5 7 1]\n",
            " [2 8 2]\n",
            " [5 9 5]]\n",
            "Matrix B:\n",
            " [[3 7 3]\n",
            " [3 3 5]\n",
            " [7 7 4]]\n",
            "Addition:\n",
            " [[ 8 14  4]\n",
            " [ 5 11  7]\n",
            " [12 16  9]]\n",
            "Subtraction:\n",
            " [[ 2  0 -2]\n",
            " [-1  5 -3]\n",
            " [-2  2  1]]\n"
          ]
        }
      ]
    },
    {
      "cell_type": "code",
      "source": [
        "'''82. Generate two matrices C (3x2) and D (2x4) and perform matrix multiplication.'''\n",
        "C = np.random.randint(1, 10, size=(3, 2))\n",
        "D = np.random.randint(1, 10, size=(2, 4))\n",
        "result = np.dot(C, D)\n",
        "print(\"Matrix C:\\n\", C)\n",
        "print(\"Matrix D:\\n\", D)\n",
        "print(\"Matrix multiplication result:\\n\", result)\n"
      ],
      "metadata": {
        "colab": {
          "base_uri": "https://localhost:8080/"
        },
        "id": "L_cT6AgkJ_iG",
        "outputId": "72f8cf88-661c-4b8a-c9f0-7173fb6b4647"
      },
      "execution_count": 84,
      "outputs": [
        {
          "output_type": "stream",
          "name": "stdout",
          "text": [
            "Matrix C:\n",
            " [[9 5]\n",
            " [4 1]\n",
            " [7 3]]\n",
            "Matrix D:\n",
            " [[2 8 9 3]\n",
            " [4 5 4 5]]\n",
            "Matrix multiplication result:\n",
            " [[ 38  97 101  52]\n",
            " [ 12  37  40  17]\n",
            " [ 26  71  75  36]]\n"
          ]
        }
      ]
    },
    {
      "cell_type": "code",
      "source": [
        "'''83. Create a matrix E and find its transpose.'''\n",
        "E = np.random.randint(1, 10, size=(3, 4))\n",
        "transpose = E.T\n",
        "print(\"Matrix E:\\n\", E)\n",
        "print(\"Transpose of E:\\n\", transpose)\n"
      ],
      "metadata": {
        "colab": {
          "base_uri": "https://localhost:8080/"
        },
        "id": "u6g_iYF_Kb8Q",
        "outputId": "2e73a389-24f7-483d-f913-480eab64c64e"
      },
      "execution_count": 85,
      "outputs": [
        {
          "output_type": "stream",
          "name": "stdout",
          "text": [
            "Matrix E:\n",
            " [[5 6 2 2]\n",
            " [3 1 7 3]\n",
            " [6 7 4 6]]\n",
            "Transpose of E:\n",
            " [[5 3 6]\n",
            " [6 1 7]\n",
            " [2 7 4]\n",
            " [2 3 6]]\n"
          ]
        }
      ]
    },
    {
      "cell_type": "code",
      "source": [
        "'''84. Generate a square matrix F and compute its determinant.'''\n",
        "from numpy.linalg import det\n",
        "\n",
        "F = np.random.randint(1, 10, size=(3, 3))\n",
        "determinant = det(F)\n",
        "print(\"Matrix F:\\n\", F)\n",
        "print(\"Determinant of F:\", determinant)\n"
      ],
      "metadata": {
        "colab": {
          "base_uri": "https://localhost:8080/"
        },
        "id": "ujBhmsDMKb5K",
        "outputId": "087b1240-41ce-4dcb-bbe5-e3a782ed17dc"
      },
      "execution_count": 86,
      "outputs": [
        {
          "output_type": "stream",
          "name": "stdout",
          "text": [
            "Matrix F:\n",
            " [[3 3 6]\n",
            " [2 4 8]\n",
            " [3 1 4]]\n",
            "Determinant of F: 12.0\n"
          ]
        }
      ]
    },
    {
      "cell_type": "code",
      "source": [
        "'''85. Create a square matrix G and find its inverse'''\n",
        "from numpy.linalg import inv\n",
        "\n",
        "G = np.random.randint(1, 10, size=(3, 3))\n",
        "if det(G) != 0:\n",
        "    inverse = inv(G)\n",
        "    print(\"Matrix G:\\n\", G)\n",
        "    print(\"Inverse of G:\\n\", inverse)\n",
        "else:\n",
        "    print(\"Matrix G is singular, so it does not have an inverse.\")\n"
      ],
      "metadata": {
        "id": "7VmSXny3Kb2D"
      },
      "execution_count": null,
      "outputs": []
    },
    {
      "cell_type": "code",
      "source": [],
      "metadata": {
        "id": "vF_OaQ_AKby_"
      },
      "execution_count": null,
      "outputs": []
    },
    {
      "cell_type": "code",
      "source": [],
      "metadata": {
        "id": "_LEM-JLWKbv6"
      },
      "execution_count": null,
      "outputs": []
    }
  ]
}